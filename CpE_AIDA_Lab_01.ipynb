{
  "nbformat": 4,
  "nbformat_minor": 0,
  "metadata": {
    "colab": {
      "name": "CpE-AIDA-Lab-01",
      "provenance": [],
      "collapsed_sections": [],
      "include_colab_link": true
    },
    "kernelspec": {
      "name": "python3",
      "display_name": "Python 3"
    },
    "language_info": {
      "name": "python"
    }
  },
  "cells": [
    {
      "cell_type": "markdown",
      "metadata": {
        "id": "view-in-github",
        "colab_type": "text"
      },
      "source": [
        "<a href=\"https://colab.research.google.com/github/EdhnaerA/CpE-AIDA-Lab-01/blob/main/CpE_AIDA_Lab_01.ipynb\" target=\"_parent\"><img src=\"https://colab.research.google.com/assets/colab-badge.svg\" alt=\"Open In Colab\"/></a>"
      ]
    },
    {
      "cell_type": "markdown",
      "source": [
        "# CpE-AIDA-Lab-01 (FLY HIGH DATA)\n"
      ],
      "metadata": {
        "id": "3z_dZUct_rlk"
      }
    },
    {
      "cell_type": "markdown",
      "source": [
        "# **TASK 1**"
      ],
      "metadata": {
        "id": "WY6b0jykqYOF"
      }
    },
    {
      "cell_type": "code",
      "source": [
        "import numpy as np\n",
        "from scipy import stats\n"
      ],
      "metadata": {
        "id": "DuaNrzSlwBRV"
      },
      "execution_count": null,
      "outputs": []
    },
    {
      "cell_type": "code",
      "execution_count": null,
      "metadata": {
        "id": "4dafNlTnk3CV",
        "colab": {
          "base_uri": "https://localhost:8080/"
        },
        "outputId": "c24f4c2b-4799-45dd-c088-c8c131f74ca9"
      },
      "outputs": [
        {
          "output_type": "execute_result",
          "data": {
            "text/plain": [
              "{'Final Grades': [86.8, 88.9, 88.7, 86.9],\n",
              " 'First Name': ['Aljay', 'Jalen', 'Edhnaer'],\n",
              " 'Last Name': ['Moya', 'Lacambra', 'Arcera'],\n",
              " 'Midterm Grades': [89.8, 98.9, 85.7, 78.8],\n",
              " 'Prelim Grades': [89.4, 78.9, 89.7, 89.9]}"
            ]
          },
          "metadata": {},
          "execution_count": 8
        }
      ],
      "source": [
        "#Task 1.1\n",
        "#Declaring Variables\n",
        "\n",
        "lnames =  ['Moya','Lacambra','Arcera']\n",
        "firstnames = ['Aljay','Jalen','Edhnaer']\n",
        "pgrades = [89.4, 78.9, 89.7,89.9]\n",
        "mgrades = [89.8, 98.9, 85.7,78.8]\n",
        "fgrades = [86.8, 88.9, 88.7,86.9]\n",
        "\n",
        "#Task 1.2\n",
        "# Creating a dictionary for Task 1.1\n",
        "list= {\n",
        "    \"Last Name\":lnames,\n",
        "    \"First Name\":firstnames,  \n",
        "    \"Prelim Grades\":pgrades,\n",
        "    \"Midterm Grades\":mgrades,\n",
        "    \"Final Grades\":fgrades,\n",
        "        }\n",
        "list\n",
        "\n",
        "\n"
      ]
    },
    {
      "cell_type": "markdown",
      "source": [
        "# TASK 2"
      ],
      "metadata": {
        "id": "z9DwB9Qf_qcA"
      }
    },
    {
      "cell_type": "code",
      "source": [
        "import pandas as pd\n",
        "import os\n",
        "\n",
        "\n",
        "df = pd.read_csv('/content/sample_data/class_grades.csv') #class_grades CSV file to python using pandas\n",
        "\n",
        "a = df.columns\n",
        "\n",
        "class_grades_list = df.to_dict('records') #list of dictionaries where each dict is a row\n",
        "class_grade_sheet = {class_grades_row['id']: class_grades_row for class_grades_row in class_grades_list} #creating dict from list\n"
      ],
      "metadata": {
        "id": "EM9sAq70cffe"
      },
      "execution_count": null,
      "outputs": []
    },
    {
      "cell_type": "code",
      "source": [
        "import statistics\n",
        "\n",
        "def get_grades(class_grade_sheet):\n",
        "    class_grade_sheet_semestral = {}\n",
        "    for student_id, student_grade_sheet in class_grade_sheet.items():\n",
        "        \n",
        "        total = student_grade_sheet['prelim_grades'] + student_grade_sheet['midterm_grades'] + student_grade_sheet['final_grades'] #computing grades from prelims, midterm and finals\n",
        "        semestral_grade = total/3 #average grade from prelims, midterm and finals\n",
        "        student_grade_sheet.update({'semestral_grades': semestral_grade})\n",
        "\n",
        "        class_grade_sheet_semestral.update({student_id: student_grade_sheet})\n",
        "\n",
        "    return class_grade_sheet_semestral\n",
        "\n",
        "def get_class_stats(class_grade_sheet):\n",
        "    highest_prelim = 0\n",
        "    lowest_prelim = 0\n",
        "    highest_midterm = 0\n",
        "    lowest_midterm = 0\n",
        "    highest_final = 0\n",
        "    lowest_final = 0\n",
        "    highest_semestral = 0\n",
        "    lowest_semestral = 0\n",
        "    mean_grade = 0\n",
        "    mode_grade = 0\n",
        "    median_grade = 0\n",
        "    standard_deviation_grade = 0\n",
        "\n",
        "    highest_prelim = max([class_grade_sheet['prelim_grades'] for student_id, class_grade_sheet in class_grade_sheet.items()])\n",
        "    lowest_prelim = min([class_grade_sheet['prelim_grades'] for student_id, class_grade_sheet in class_grade_sheet.items()])\n",
        "\n",
        "    highest_midterm = max([class_grade_sheet['midterm_grades'] for student_id, class_grade_sheet in class_grade_sheet.items()])\n",
        "    lowest_midterm = min([class_grade_sheet['midterm_grades'] for student_id, class_grade_sheet in class_grade_sheet.items()])\n",
        "\n",
        "    highest_final = max([class_grade_sheet['final_grades'] for student_id, class_grade_sheet in class_grade_sheet.items()])\n",
        "    lowest_final = min([class_grade_sheet['final_grades'] for student_id, class_grade_sheet in class_grade_sheet.items()])\n",
        "\n",
        "    highest_semestral = max([class_grade_sheet['semestral_grades'] for student_id, class_grade_sheet in class_grade_sheet.items()])\n",
        "    lowest_semestral = min([class_grade_sheet['semestral_grades'] for student_id, class_grade_sheet in class_grade_sheet.items()])\n",
        "\n",
        "    mean_grade = statistics.mean([class_grade_sheet['semestral_grades'] for student_id, class_grade_sheet in class_grade_sheet.items()])\n",
        "    mode_grade = max(set([class_grade_sheet['semestral_grades'] for student_id, class_grade_sheet in class_grade_sheet.items()]), key=[class_grade_sheet['semestral_grades'] for student_id, class_grade_sheet in class_grade_sheet.items()].count)\n",
        "    median_grade = statistics.median([class_grade_sheet['semestral_grades'] for student_id, class_grade_sheet in class_grade_sheet.items()])\n",
        "    standard_deviation_grade = statistics.stdev([class_grade_sheet['semestral_grades'] for student_id, class_grade_sheet in class_grade_sheet.items()])\n",
        "\n",
        "    return {\n",
        "        'highest_prelim' : highest_prelim,\n",
        "        'lowest_prelim' : highest_prelim,\n",
        "        'highest_midterm' : highest_midterm, \n",
        "        'lowest_midterm' : lowest_midterm,\n",
        "        'highest_final' : highest_final,\n",
        "        'lowest_final' : lowest_final,\n",
        "        'highest_semestral' : highest_semestral,\n",
        "        'lowest_semestral' : lowest_semestral,\n",
        "        'mean_grade' : mean_grade,\n",
        "        'mode_grade' : mode_grade,\n",
        "        'median_grade' : median_grade,\n",
        "        'standard_deviation_grade' : standard_deviation_grade\n",
        "    }\n",
        "\n"
      ],
      "metadata": {
        "id": "7ladOo8RSjkT"
      },
      "execution_count": null,
      "outputs": []
    },
    {
      "cell_type": "code",
      "source": [
        "class_grade_sheet = get_grades(class_grade_sheet)\n",
        "print(class_grade_sheet)\n",
        "finalresult = get_class_stats(class_grade_sheet)\n",
        "\n",
        "print(finalresult)"
      ],
      "metadata": {
        "id": "CBodMDl0cyiI"
      },
      "execution_count": null,
      "outputs": []
    }
  ]
}